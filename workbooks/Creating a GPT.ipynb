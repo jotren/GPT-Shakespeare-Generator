{
 "cells": [
  {
   "cell_type": "markdown",
   "id": "3b65e796-8fb3-40a7-b823-e89ff1f75afc",
   "metadata": {},
   "source": [
    "# Creating a GPT From Scratch\n",
    "\n",
    "Workbook will explain every aspect of the code. Process:\n",
    "\n",
    "- __Setup__:Convert the words into simple tokens\n",
    "- Feed these tokens into an embedding layer, which will be a randomised vector representation of 364. The index position of these embeddings will relate to the tokens.\n",
    "- Run this through multiple heads of self attention\n",
    "- "
   ]
  },
  {
   "cell_type": "markdown",
   "id": "fb7792c1-faf8-41fe-b7be-4cf72c6ed5c0",
   "metadata": {},
   "source": [
    "## Setup"
   ]
  },
  {
   "cell_type": "code",
   "execution_count": 1,
   "id": "fc5678c4-77bd-471f-a651-7961cbd7d989",
   "metadata": {},
   "outputs": [],
   "source": [
    "import torch\n",
    "import torch.nn as nn\n",
    "from torch.nn import functional as F"
   ]
  },
  {
   "cell_type": "code",
   "execution_count": 2,
   "id": "f07e810f-2578-4db7-8bf4-2be0fc5e9617",
   "metadata": {},
   "outputs": [],
   "source": [
    "# hyperparameters\n",
    "batch_size = 64 # how many independent sequences will we process in parallel?\n",
    "block_size = 256 # what is the maximum context length for predictions?\n",
    "max_iters = 5000\n",
    "eval_interval = 500\n",
    "learning_rate = 3e-4\n",
    "device = 'cuda' if torch.cuda.is_available() else 'cpu'\n",
    "eval_iters = 200\n",
    "n_embd = 384\n",
    "n_head = 6\n",
    "n_layer = 6\n",
    "dropout = 0.2\n",
    "# ------------"
   ]
  },
  {
   "cell_type": "code",
   "execution_count": 3,
   "id": "1eab9e0f-360f-4baf-898d-2345d9728f48",
   "metadata": {},
   "outputs": [],
   "source": [
    "\n",
    "torch.manual_seed(1337)\n",
    "\n",
    "# !wget https://raw.githubusercontent.com/karpathy/char-rnn/master/data/tinyshakespeare/input.txt\n",
    "with open('../data/input.txt', 'r', encoding='utf-8') as f:\n",
    "    text = f.read()\n"
   ]
  },
  {
   "cell_type": "markdown",
   "id": "d5ebefd7-7cda-4525-a323-849f6b6f378c",
   "metadata": {},
   "source": [
    "Create the training and test data."
   ]
  },
  {
   "cell_type": "code",
   "execution_count": 4,
   "id": "d9cdde21-f7de-43f2-85ac-62f82ac267ca",
   "metadata": {},
   "outputs": [
    {
     "data": {
      "text/plain": [
       "tensor([18, 47, 56,  ..., 43, 56, 43])"
      ]
     },
     "execution_count": 4,
     "metadata": {},
     "output_type": "execute_result"
    }
   ],
   "source": [
    "\n",
    "# here are all the unique characters that occur in this text\n",
    "chars = sorted(list(set(text)))\n",
    "vocab_size = len(chars)\n",
    "# create a mapping from characters to integers\n",
    "stoi = { ch:i for i,ch in enumerate(chars) }\n",
    "itos = { i:ch for i,ch in enumerate(chars) }\n",
    "encode = lambda s: [stoi[c] for c in s] # encoder: take a string, output a list of integers\n",
    "decode = lambda l: ''.join([itos[i] for i in l]) # decoder: take a list of integers, output a string\n",
    "\n",
    "# Train and test splits\n",
    "data = torch.tensor(encode(text), dtype=torch.long)\n",
    "n = int(0.9*len(data)) # first 90% will be train, rest val\n",
    "train_data = data[:n]\n",
    "val_data = data[n:]\n",
    "\n",
    "train_data"
   ]
  },
  {
   "cell_type": "markdown",
   "id": "d53e1708-d724-46be-b069-e1c8a23d771f",
   "metadata": {},
   "source": [
    "Functions to create the batch and blocks for the model:\n",
    "\n",
    "- Batch size (B) is the number of training samples processed for each iteration of updating the model.\n",
    "- Block size (T) is the context length, how many tokens are processed in a sequence at once.\n",
    "\n",
    "The loss is calcualted using cross-entropy, this is a measure of how well the model did to predict the next letter. It is essentially \n",
    "\n",
    "$$\r\n",
    "\\text{Total Loss} = \\frac{1}{N} \\sum_{o=1}^N \\left( -\\sum_{c=1}^M y_{o,c} \\log(p_{o,c}) \\right)$$\r\n",
    "\n",
    "\n",
    "Where:\r\n",
    "- **\\( L \\)**: The loss for a single observation.\r\n",
    "- **\\( M \\)**: The total number of classes.\r\n",
    "- **\\( y_{o,c} \\)**: A binary indicator (0 or 1) that is 1 if class label \\( c \\) is the correct classification for observation \\( o \\), and 0 otherwise.\r\n",
    "- **\\( p_{o,c} \\)**: The predicted probability of observation \\( o \\) being of class \\( c \\). This probability is output from the model, typically from a softmax layer that normalizes the logits output by the neural network.\r\n",
    "$$\r\n"
   ]
  },
  {
   "cell_type": "code",
   "execution_count": 5,
   "id": "b1cedca0-418e-4ff1-9462-d711c6f072ed",
   "metadata": {},
   "outputs": [],
   "source": [
    "\n",
    "# data loading\n",
    "def get_batch(split):\n",
    "    # generate a small batch of data of inputs x and targets y\n",
    "    data = train_data if split == 'train' else val_data\n",
    "    ix = torch.randint(len(data) - block_size, (batch_size,))\n",
    "    x = torch.stack([data[i:i+block_size] for i in ix])\n",
    "    y = torch.stack([data[i+1:i+block_size+1] for i in ix])\n",
    "    x, y = x.to(device), y.to(device)\n",
    "    return x, y\n",
    "\n",
    "@torch.no_grad()\n",
    "def estimate_loss():\n",
    "    out = {}\n",
    "    model.eval()\n",
    "    for split in ['train', 'val']:\n",
    "        losses = torch.zeros(eval_iters)\n",
    "        for k in range(eval_iters):\n",
    "            X, Y = get_batch(split)\n",
    "            logits, loss = model(X, Y)\n",
    "            losses[k] = loss.item()\n",
    "        out[split] = losses.mean()\n",
    "    model.train()\n",
    "    return out"
   ]
  },
  {
   "cell_type": "markdown",
   "id": "0d88cf8c-8bac-45f6-9879-1d44be4fe309",
   "metadata": {},
   "source": [
    "In this case the block size is 265 and the block size is 64."
   ]
  },
  {
   "cell_type": "code",
   "execution_count": 6,
   "id": "bfae6aac-eb74-4c49-b9dd-ddb1b73cbb62",
   "metadata": {},
   "outputs": [
    {
     "name": "stdout",
     "output_type": "stream",
     "text": [
      "torch.Size([64, 256])\n",
      "torch.Size([64, 256])\n"
     ]
    }
   ],
   "source": [
    "# sample a batch of data\n",
    "xb, yb = get_batch('train')\n",
    "\n",
    "print(xb.shape)\n",
    "print(yb.shape)"
   ]
  },
  {
   "cell_type": "markdown",
   "id": "b544be55-5e3b-4a1c-a89d-3814ac19abe4",
   "metadata": {},
   "source": [
    "## Model\n",
    "\n",
    "### Self Attention Layer\n",
    "\n",
    "This is an attention layer. To understand the mathematics of what is happening here please go to: \n",
    "\n",
    "https://github.com/jotren/Machine-Learning-Teaching-Material/blob/main/theory/Transformer%20Encoder%20Maths.md"
   ]
  },
  {
   "cell_type": "code",
   "execution_count": 7,
   "id": "d6fdb910-ea58-4e01-9fb1-40fa6fdde6a1",
   "metadata": {},
   "outputs": [],
   "source": [
    "class Head(nn.Module):\n",
    "    \"\"\" one head of self-attention \"\"\"\n",
    "\n",
    "    def __init__(self, head_size):\n",
    "        super().__init__()\n",
    "        self.key = nn.Linear(n_embd, head_size, bias=False)\n",
    "        self.query = nn.Linear(n_embd, head_size, bias=False)\n",
    "        self.value = nn.Linear(n_embd, head_size, bias=False)\n",
    "        self.register_buffer('tril', torch.tril(torch.ones(block_size, block_size)))\n",
    "\n",
    "        self.dropout = nn.Dropout(dropout)\n",
    "\n",
    "    def forward(self, x):\n",
    "        # input of size (batch, time-step, channels)\n",
    "        # output of size (batch, time-step, head size)\n",
    "        B,T,C = x.shape\n",
    "        k = self.key(x)   # (B,T,hs)\n",
    "        q = self.query(x) # (B,T,hs)\n",
    "        # compute attention scores (\"affinities\")\n",
    "        wei = q @ k.transpose(-2,-1) * k.shape[-1]**-0.5 # (B, T, hs) @ (B, hs, T) -> (B, T, T)\n",
    "        wei = wei.masked_fill(self.tril[:T, :T] == 0, float('-inf')) # (B, T, T)\n",
    "        wei = F.softmax(wei, dim=-1) # (B, T, T)\n",
    "        wei = self.dropout(wei)\n",
    "        # perform the weighted aggregation of the values\n",
    "        v = self.value(x) # (B,T,hs)\n",
    "        out = wei @ v # (B, T, T) @ (B, T, hs) -> (B, T, hs)\n",
    "        return out\n"
   ]
  },
  {
   "cell_type": "markdown",
   "id": "e40755b4-f165-4ec9-889b-850d0719a73f",
   "metadata": {},
   "source": [
    "### Multi Head Attention\n",
    "\n",
    "We need to employ multi head attention. Each head in the multi-head attention mechanism can potentially focus on different aspects of the input data, leading to a rich spectrum of learned relationships. Here’s a deeper look at how this diversity across different heads adds value."
   ]
  },
  {
   "cell_type": "code",
   "execution_count": 8,
   "id": "c52e4c45-56c7-4ebd-b3fa-94a43b0e39dd",
   "metadata": {},
   "outputs": [],
   "source": [
    "class MultiHeadAttention(nn.Module):\n",
    "    \"\"\" multiple heads of self-attention in parallel \"\"\"\n",
    "\n",
    "    def __init__(self, num_heads, head_size):\n",
    "        super().__init__()\n",
    "        self.heads = nn.ModuleList([Head(head_size) for _ in range(num_heads)])\n",
    "        self.proj = nn.Linear(head_size * num_heads, n_embd)\n",
    "        self.dropout = nn.Dropout(dropout)\n",
    "\n",
    "    def forward(self, x):\n",
    "        out = torch.cat([h(x) for h in self.heads], dim=-1)\n",
    "        out = self.dropout(self.proj(out))\n",
    "        return out"
   ]
  },
  {
   "cell_type": "markdown",
   "id": "bb64bf49-52a8-440d-8f8a-0e84827ada57",
   "metadata": {},
   "source": [
    "This is a standard feed forward neural network"
   ]
  },
  {
   "cell_type": "code",
   "execution_count": 9,
   "id": "0b85df6b-b73f-4f7a-b6e3-23128301f4c5",
   "metadata": {},
   "outputs": [],
   "source": [
    "class FeedFoward(nn.Module):\n",
    "    \"\"\" a simple linear layer followed by a non-linearity \"\"\"\n",
    "\n",
    "    def __init__(self, n_embd):\n",
    "        super().__init__()\n",
    "        self.net = nn.Sequential(\n",
    "            nn.Linear(n_embd, 4 * n_embd),\n",
    "            nn.ReLU(),\n",
    "            nn.Linear(4 * n_embd, n_embd),\n",
    "            nn.Dropout(dropout),\n",
    "        )\n",
    "\n",
    "    def forward(self, x):\n",
    "        return self.net(x)\n"
   ]
  },
  {
   "cell_type": "markdown",
   "id": "1b85a89a-6b77-44cf-98d6-35d290ab612b",
   "metadata": {},
   "source": [
    "This block contains multihead attention with a feedfoward and some normalisation. Normlisation layers are important to help with:\n",
    "\n",
    "- Training Stability\n",
    "- Accelrates Convergance\n",
    "- Robust with respect to initial weights"
   ]
  },
  {
   "cell_type": "code",
   "execution_count": 10,
   "id": "7208de66-62fd-4324-a148-d4f3fb768bba",
   "metadata": {},
   "outputs": [],
   "source": [
    "class Block(nn.Module):\n",
    "    \"\"\" Transformer block: communication followed by computation \"\"\"\n",
    "\n",
    "    def __init__(self, n_embd, n_head):\n",
    "        # n_embd: embedding dimension, n_head: the number of heads we'd like\n",
    "        super().__init__()\n",
    "        head_size = n_embd // n_head\n",
    "        self.sa = MultiHeadAttention(n_head, head_size)\n",
    "        self.ffwd = FeedFoward(n_embd)\n",
    "        self.ln1 = nn.LayerNorm(n_embd)\n",
    "        self.ln2 = nn.LayerNorm(n_embd)\n",
    "\n",
    "    def forward(self, x):\n",
    "        x = x + self.sa(self.ln1(x))\n",
    "        x = x + self.ffwd(self.ln2(x))\n",
    "        return x\n"
   ]
  },
  {
   "cell_type": "markdown",
   "id": "b58b2c3c-802f-453f-96c1-d55136fe2b70",
   "metadata": {},
   "source": [
    "### GPT model\n",
    "\n",
    "This model brings everything together of initialising weights, trainin"
   ]
  },
  {
   "cell_type": "code",
   "execution_count": 11,
   "id": "bef25594-0a5c-48fa-90c7-48c8ef432d51",
   "metadata": {},
   "outputs": [],
   "source": [
    "class GPTLanguageModel(nn.Module):\n",
    "\n",
    "    def __init__(self):\n",
    "        super().__init__()\n",
    "        # each token directly reads off the logits for the next token from a lookup table\n",
    "        self.token_embedding_table = nn.Embedding(vocab_size, n_embd)\n",
    "        self.position_embedding_table = nn.Embedding(block_size, n_embd)\n",
    "        self.blocks = nn.Sequential(*[Block(n_embd, n_head=n_head) for _ in range(n_layer)])\n",
    "        self.ln_f = nn.LayerNorm(n_embd) # final layer norm\n",
    "        self.lm_head = nn.Linear(n_embd, vocab_size)\n",
    "\n",
    "        # better init, not covered in the original GPT video, but important, will cover in followup video\n",
    "        self.apply(self._init_weights)\n",
    "\n",
    "    def _init_weights(self, module):\n",
    "        if isinstance(module, nn.Linear):\n",
    "            torch.nn.init.normal_(module.weight, mean=0.0, std=0.02)\n",
    "            if module.bias is not None:\n",
    "                torch.nn.init.zeros_(module.bias)\n",
    "        elif isinstance(module, nn.Embedding):\n",
    "            torch.nn.init.normal_(module.weight, mean=0.0, std=0.02)\n",
    "\n",
    "    def forward(self, idx, targets=None):\n",
    "        B, T = idx.shape\n",
    "\n",
    "        # idx and targets are both (B,T) tensor of integers\n",
    "        tok_emb = self.token_embedding_table(idx) # (B,T,C)\n",
    "        pos_emb = self.position_embedding_table(torch.arange(T, device=device)) # (T,C)\n",
    "        x = tok_emb + pos_emb # (B,T,C)\n",
    "        x = self.blocks(x) # (B,T,C)\n",
    "        x = self.ln_f(x) # (B,T,C)\n",
    "        logits = self.lm_head(x) # (B,T,vocab_size)\n",
    "\n",
    "        if targets is None:\n",
    "            loss = None\n",
    "        else:\n",
    "            B, T, C = logits.shape\n",
    "            logits = logits.view(B*T, C)\n",
    "            targets = targets.view(B*T)\n",
    "            loss = F.cross_entropy(logits, targets)\n",
    "\n",
    "        return logits, loss\n",
    "\n",
    "    def generate(self, idx, max_new_tokens):\n",
    "        # idx is (B, T) array of indices in the current context\n",
    "        for _ in range(max_new_tokens):\n",
    "            # crop idx to the last block_size tokens\n",
    "            idx_cond = idx[:, -block_size:]\n",
    "            # get the predictions\n",
    "            logits, loss = self(idx_cond)\n",
    "            # focus only on the last time step\n",
    "            logits = logits[:, -1, :] # becomes (B, C)\n",
    "            # apply softmax to get probabilities\n",
    "            probs = F.softmax(logits, dim=-1) # (B, C)\n",
    "            # sample from the distribution\n",
    "            idx_next = torch.multinomial(probs, num_samples=1) # (B, 1)\n",
    "            # append sampled index to the running sequence\n",
    "            idx = torch.cat((idx, idx_next), dim=1) # (B, T+1)\n",
    "        return idx\n",
    "    \n",
    "    def save(self, path):\n",
    "        \"\"\"Saves the model's state_dict (weights) to a file.\"\"\"\n",
    "        torch.save(self.state_dict(), path)\n",
    "\n",
    "    def load(self, path, device='cpu'):\n",
    "        \"\"\"Loads the model's weights from a file.\"\"\"\n",
    "        # Loads the saved state_dict into the model.\n",
    "        # This method also ensures that the model is loaded for the correct device.\n",
    "        self.load_state_dict(torch.load(path, map_location=device))\n",
    "        self.eval()  # Set the model to evaluation mode\n"
   ]
  },
  {
   "cell_type": "markdown",
   "id": "a02321d5-e108-4c5d-8afc-0515b32a7ce2",
   "metadata": {},
   "source": [
    "### Training\n",
    "\n",
    "First we need to set up our model. Will use the ADAM optimiser."
   ]
  },
  {
   "cell_type": "code",
   "execution_count": 12,
   "id": "500c056a-59dd-4e68-91a1-a39ed89e0b62",
   "metadata": {},
   "outputs": [
    {
     "name": "stdout",
     "output_type": "stream",
     "text": [
      "10.788929 M parameters\n"
     ]
    }
   ],
   "source": [
    "model = GPTLanguageModel()\n",
    "m = model.to(device)\n",
    "# print the number of parameters in the model\n",
    "print(sum(p.numel() for p in m.parameters())/1e6, 'M parameters')\n",
    "\n",
    "# create a PyTorch optimizer\n",
    "optimizer = torch.optim.AdamW(model.parameters(), lr=learning_rate)"
   ]
  },
  {
   "cell_type": "markdown",
   "id": "04996c02-5d20-4a8f-a4e8-d5f508d76d93",
   "metadata": {},
   "source": [
    "Then we loop over the optimiser, at the start of each loop we evaluate the performance with evaluate_loss(). Note: this already has the model loaded as it is a global variable.\n",
    "\n",
    "Then we get a batch from training data of x and y, we get the resulting logits from the model "
   ]
  },
  {
   "cell_type": "code",
   "execution_count": 13,
   "id": "401d8557-3e32-4503-bb5f-d3414aa58d36",
   "metadata": {},
   "outputs": [
    {
     "name": "stdout",
     "output_type": "stream",
     "text": [
      "step 0: train loss 4.2209, val loss 4.2191\n",
      "step 500: train loss 1.7476, val loss 1.8964\n",
      "step 1000: train loss 1.3990, val loss 1.5953\n",
      "step 1500: train loss 1.2706, val loss 1.5244\n",
      "step 2000: train loss 1.1882, val loss 1.4994\n",
      "step 2500: train loss 1.1282, val loss 1.4953\n",
      "step 3000: train loss 1.0731, val loss 1.4815\n",
      "step 3500: train loss 1.0223, val loss 1.5040\n",
      "step 4000: train loss 0.9631, val loss 1.5112\n",
      "step 4500: train loss 0.9133, val loss 1.5411\n",
      "step 4999: train loss 0.8666, val loss 1.5700\n"
     ]
    }
   ],
   "source": [
    "for iter in range(max_iters):\n",
    "\n",
    "    # every once in a while evaluate the loss on train and val sets\n",
    "    if iter % eval_interval == 0 or iter == max_iters - 1:\n",
    "        losses = estimate_loss()\n",
    "        print(f\"step {iter}: train loss {losses['train']:.4f}, val loss {losses['val']:.4f}\")\n",
    "\n",
    "    # sample a batch of data\n",
    "    xb, yb = get_batch('train')\n",
    "\n",
    "    # evaluate the loss\n",
    "    logits, loss = model(xb, yb)\n",
    "    optimizer.zero_grad(set_to_none=True)\n",
    "    loss.backward()\n",
    "    optimizer.step()"
   ]
  },
  {
   "cell_type": "markdown",
   "id": "ba7922fa-fe85-417c-a2ce-6e4e63704efb",
   "metadata": {},
   "source": [
    "### Model Ouput"
   ]
  },
  {
   "cell_type": "code",
   "execution_count": 14,
   "id": "a1930313-ddaf-4e19-94ae-eafe2f7d8792",
   "metadata": {},
   "outputs": [],
   "source": [
    "model.save('../models/model_weights.pth')"
   ]
  },
  {
   "cell_type": "code",
   "execution_count": 18,
   "id": "d3d99c7e-e278-4f27-9d67-6de1fa1c4088",
   "metadata": {},
   "outputs": [
    {
     "name": "stdout",
     "output_type": "stream",
     "text": [
      "\n",
      "\n",
      "BUSHY:\n",
      "Then in the conditions repolies of diseal peers.\n",
      "\n",
      "NORTHUMERS:\n",
      "The citizens are they they comes to Mominous.\n",
      "\n",
      "THOMAS MOWBRAY:\n",
      "Why, there have I lived your former stair-speaking,\n",
      "Not humbled?\n",
      "\n",
      "KING RICHARD III:\n",
      "It came, my lady; I to his castles,\n",
      "Looks who do' secret your spring.\n",
      "\n",
      "DUKE OF AUMERLE:\n",
      "My Lancaster, and lord Base\n",
      "Shall be appared at nympt. This once I would out him;\n",
      "I am a slain a brace of the all-babe't dead,\n",
      "Provided violence to in the unlook on.\n",
      "\n",
      "ERCUTIO:\n",
      "Fare you all patien\n"
     ]
    },
    {
     "data": {
      "text/plain": [
       "10001"
      ]
     },
     "execution_count": 18,
     "metadata": {},
     "output_type": "execute_result"
    }
   ],
   "source": [
    "# generate from the model\n",
    "context = torch.zeros((1, 1), dtype=torch.long, device=device)\n",
    "print(decode(m.generate(context, max_new_tokens=500)[0].tolist()))\n",
    "open('../result/generated_text.txt', 'w').write(decode(m.generate(context, max_new_tokens=10000)[0].tolist()))"
   ]
  },
  {
   "cell_type": "code",
   "execution_count": null,
   "id": "c4903ef3-aacf-43a8-83bc-d35111b57486",
   "metadata": {},
   "outputs": [],
   "source": []
  }
 ],
 "metadata": {
  "kernelspec": {
   "display_name": "Python (LLM)",
   "language": "python",
   "name": "llm"
  },
  "language_info": {
   "codemirror_mode": {
    "name": "ipython",
    "version": 3
   },
   "file_extension": ".py",
   "mimetype": "text/x-python",
   "name": "python",
   "nbconvert_exporter": "python",
   "pygments_lexer": "ipython3",
   "version": "3.10.14"
  }
 },
 "nbformat": 4,
 "nbformat_minor": 5
}
